{
  "nbformat": 4,
  "nbformat_minor": 0,
  "metadata": {
    "colab": {
      "name": "C3_W2_sarcasm_classifier.ipynb",
      "provenance": [],
      "toc_visible": true,
      "authorship_tag": "ABX9TyOFGmQCQuvMUmuTpdZdhjmq",
      "include_colab_link": true
    },
    "kernelspec": {
      "name": "python3",
      "display_name": "Python 3"
    },
    "language_info": {
      "name": "python"
    }
  },
  "cells": [
    {
      "cell_type": "markdown",
      "metadata": {
        "id": "view-in-github",
        "colab_type": "text"
      },
      "source": [
        "<a href=\"https://colab.research.google.com/github/ksknysn/Coursera/blob/main/TensorFlowDeveloper/C3_W2_sarcasm_classifier.ipynb\" target=\"_parent\"><img src=\"https://colab.research.google.com/assets/colab-badge.svg\" alt=\"Open In Colab\"/></a>"
      ]
    },
    {
      "cell_type": "markdown",
      "metadata": {
        "id": "NG89Xrp1dA01"
      },
      "source": [
        "Source"
      ]
    },
    {
      "cell_type": "code",
      "metadata": {
        "id": "vRXsgFrbdHI7"
      },
      "source": [
        "import json\n",
        "import tensorflow as tf\n",
        "\n",
        "from tensorflow.keras.preprocessing.text import Tokenizer\n",
        "from tensorflow.keras.preprocessing.sequence import pad_sequences"
      ],
      "execution_count": 25,
      "outputs": []
    },
    {
      "cell_type": "code",
      "metadata": {
        "id": "EbLNGeR3dKCA"
      },
      "source": [
        "vocab_size = 10000\n",
        "embedding_dim = 16\n",
        "max_length = 100\n",
        "trunc_type='post'\n",
        "padding_type='post'\n",
        "oov_tok = \"<OOV>\"\n",
        "training_size = 20000"
      ],
      "execution_count": 26,
      "outputs": []
    },
    {
      "cell_type": "code",
      "metadata": {
        "colab": {
          "base_uri": "https://localhost:8080/"
        },
        "id": "BJDyCguzdMlI",
        "outputId": "ef9290ff-3271-4ba6-9f68-e439b0ea17e8"
      },
      "source": [
        "!gdown --id 1xRU3xY5-tkiPGvlz5xBJ18_pHWSRzI4v"
      ],
      "execution_count": 30,
      "outputs": [
        {
          "output_type": "stream",
          "name": "stdout",
          "text": [
            "Downloading...\n",
            "From: https://drive.google.com/uc?id=1xRU3xY5-tkiPGvlz5xBJ18_pHWSRzI4v\n",
            "To: /content/sarcasm.json\n",
            "\r0.00B [00:00, ?B/s]\r5.64MB [00:00, 88.1MB/s]\n"
          ]
        }
      ]
    },
    {
      "cell_type": "code",
      "metadata": {
        "id": "8OC42nOrdPI7"
      },
      "source": [
        "with open(\"./sarcasm.json\", 'r') as f:\n",
        "    datastore = json.load(f)\n",
        "\n",
        "sentences = []\n",
        "labels = []\n",
        "\n",
        "for item in datastore:\n",
        "    sentences.append(item['headline'])\n",
        "    labels.append(item['is_sarcastic'])"
      ],
      "execution_count": 31,
      "outputs": []
    },
    {
      "cell_type": "code",
      "metadata": {
        "id": "nrfvyM5sdT0B"
      },
      "source": [
        "training_sentences = sentences[0:training_size]\n",
        "testing_sentences = sentences[training_size:]\n",
        "training_labels = labels[0:training_size]\n",
        "testing_labels = labels[training_size:]"
      ],
      "execution_count": 32,
      "outputs": []
    },
    {
      "cell_type": "code",
      "metadata": {
        "id": "I6J7CGkhd1gM"
      },
      "source": [
        "tokenizer = Tokenizer(num_words=vocab_size, oov_token=oov_tok)\n",
        "tokenizer.fit_on_texts(training_sentences)\n",
        "\n",
        "word_index = tokenizer.word_index\n",
        "\n",
        "training_sequences = tokenizer.texts_to_sequences(training_sentences)\n",
        "training_padded = pad_sequences(training_sequences, maxlen=max_length, padding=padding_type, truncating=trunc_type)\n",
        "\n",
        "testing_sequences = tokenizer.texts_to_sequences(testing_sentences)\n",
        "testing_padded = pad_sequences(testing_sequences, maxlen=max_length, padding=padding_type, truncating=trunc_type)"
      ],
      "execution_count": 33,
      "outputs": []
    },
    {
      "cell_type": "code",
      "metadata": {
        "id": "hZMxyMmWd4sP"
      },
      "source": [
        "# Need this block to get it to work with TensorFlow 2.x\n",
        "import numpy as np\n",
        "training_padded = np.array(training_padded)\n",
        "training_labels = np.array(training_labels)\n",
        "testing_padded = np.array(testing_padded)\n",
        "testing_labels = np.array(testing_labels)"
      ],
      "execution_count": 34,
      "outputs": []
    },
    {
      "cell_type": "code",
      "metadata": {
        "id": "YZ-hND4QeDC9"
      },
      "source": [
        "model = tf.keras.Sequential([\n",
        "    tf.keras.layers.Embedding(vocab_size, embedding_dim, input_length=max_length),\n",
        "    tf.keras.layers.GlobalAveragePooling1D(),\n",
        "    tf.keras.layers.Dense(24, activation='relu'),\n",
        "    tf.keras.layers.Dense(1, activation='sigmoid')\n",
        "])\n",
        "model.compile(loss='binary_crossentropy',optimizer='adam',metrics=['accuracy'])"
      ],
      "execution_count": 35,
      "outputs": []
    },
    {
      "cell_type": "code",
      "metadata": {
        "colab": {
          "base_uri": "https://localhost:8080/"
        },
        "id": "rCMMtsjPeIkD",
        "outputId": "b3f29fae-1403-4932-bb58-724e1b44c59b"
      },
      "source": [
        "model.summary()"
      ],
      "execution_count": 36,
      "outputs": [
        {
          "output_type": "stream",
          "name": "stdout",
          "text": [
            "Model: \"sequential_1\"\n",
            "_________________________________________________________________\n",
            "Layer (type)                 Output Shape              Param #   \n",
            "=================================================================\n",
            "embedding_1 (Embedding)      (None, 100, 16)           160000    \n",
            "_________________________________________________________________\n",
            "global_average_pooling1d (Gl (None, 16)                0         \n",
            "_________________________________________________________________\n",
            "dense_2 (Dense)              (None, 24)                408       \n",
            "_________________________________________________________________\n",
            "dense_3 (Dense)              (None, 1)                 25        \n",
            "=================================================================\n",
            "Total params: 160,433\n",
            "Trainable params: 160,433\n",
            "Non-trainable params: 0\n",
            "_________________________________________________________________\n"
          ]
        }
      ]
    },
    {
      "cell_type": "code",
      "metadata": {
        "colab": {
          "base_uri": "https://localhost:8080/"
        },
        "id": "K_exnrlhedlS",
        "outputId": "b9cc3e6d-42a0-426c-ddbe-1c96477d38d6"
      },
      "source": [
        "num_epochs = 30\n",
        "history = model.fit(training_padded, training_labels, epochs=num_epochs, validation_data=(testing_padded, testing_labels), verbose=2)"
      ],
      "execution_count": 37,
      "outputs": [
        {
          "output_type": "stream",
          "name": "stdout",
          "text": [
            "Epoch 1/30\n",
            "625/625 - 3s - loss: 0.6772 - accuracy: 0.5572 - val_loss: 0.6385 - val_accuracy: 0.5633\n",
            "Epoch 2/30\n",
            "625/625 - 2s - loss: 0.4599 - accuracy: 0.7957 - val_loss: 0.3860 - val_accuracy: 0.8395\n",
            "Epoch 3/30\n",
            "625/625 - 2s - loss: 0.3125 - accuracy: 0.8759 - val_loss: 0.3533 - val_accuracy: 0.8505\n",
            "Epoch 4/30\n",
            "625/625 - 2s - loss: 0.2595 - accuracy: 0.8989 - val_loss: 0.3435 - val_accuracy: 0.8551\n",
            "Epoch 5/30\n",
            "625/625 - 2s - loss: 0.2236 - accuracy: 0.9146 - val_loss: 0.3438 - val_accuracy: 0.8539\n",
            "Epoch 6/30\n",
            "625/625 - 2s - loss: 0.1950 - accuracy: 0.9257 - val_loss: 0.3505 - val_accuracy: 0.8539\n",
            "Epoch 7/30\n",
            "625/625 - 2s - loss: 0.1738 - accuracy: 0.9352 - val_loss: 0.3630 - val_accuracy: 0.8541\n",
            "Epoch 8/30\n",
            "625/625 - 2s - loss: 0.1554 - accuracy: 0.9433 - val_loss: 0.3772 - val_accuracy: 0.8545\n",
            "Epoch 9/30\n",
            "625/625 - 2s - loss: 0.1407 - accuracy: 0.9491 - val_loss: 0.3955 - val_accuracy: 0.8515\n",
            "Epoch 10/30\n",
            "625/625 - 2s - loss: 0.1286 - accuracy: 0.9538 - val_loss: 0.4139 - val_accuracy: 0.8502\n",
            "Epoch 11/30\n",
            "625/625 - 2s - loss: 0.1153 - accuracy: 0.9607 - val_loss: 0.4341 - val_accuracy: 0.8481\n",
            "Epoch 12/30\n",
            "625/625 - 2s - loss: 0.1043 - accuracy: 0.9650 - val_loss: 0.4603 - val_accuracy: 0.8456\n",
            "Epoch 13/30\n",
            "625/625 - 2s - loss: 0.0955 - accuracy: 0.9682 - val_loss: 0.4866 - val_accuracy: 0.8422\n",
            "Epoch 14/30\n",
            "625/625 - 2s - loss: 0.0894 - accuracy: 0.9703 - val_loss: 0.5126 - val_accuracy: 0.8417\n",
            "Epoch 15/30\n",
            "625/625 - 2s - loss: 0.0803 - accuracy: 0.9740 - val_loss: 0.5421 - val_accuracy: 0.8395\n",
            "Epoch 16/30\n",
            "625/625 - 2s - loss: 0.0735 - accuracy: 0.9761 - val_loss: 0.5865 - val_accuracy: 0.8335\n",
            "Epoch 17/30\n",
            "625/625 - 2s - loss: 0.0691 - accuracy: 0.9775 - val_loss: 0.6062 - val_accuracy: 0.8317\n",
            "Epoch 18/30\n",
            "625/625 - 2s - loss: 0.0609 - accuracy: 0.9808 - val_loss: 0.6317 - val_accuracy: 0.8323\n",
            "Epoch 19/30\n",
            "625/625 - 2s - loss: 0.0573 - accuracy: 0.9826 - val_loss: 0.6608 - val_accuracy: 0.8301\n",
            "Epoch 20/30\n",
            "625/625 - 2s - loss: 0.0529 - accuracy: 0.9839 - val_loss: 0.7103 - val_accuracy: 0.8258\n",
            "Epoch 21/30\n",
            "625/625 - 2s - loss: 0.0482 - accuracy: 0.9855 - val_loss: 0.7228 - val_accuracy: 0.8283\n",
            "Epoch 22/30\n",
            "625/625 - 2s - loss: 0.0449 - accuracy: 0.9869 - val_loss: 0.7554 - val_accuracy: 0.8249\n",
            "Epoch 23/30\n",
            "625/625 - 2s - loss: 0.0415 - accuracy: 0.9883 - val_loss: 0.7967 - val_accuracy: 0.8208\n",
            "Epoch 24/30\n",
            "625/625 - 2s - loss: 0.0379 - accuracy: 0.9886 - val_loss: 0.8401 - val_accuracy: 0.8196\n",
            "Epoch 25/30\n",
            "625/625 - 2s - loss: 0.0351 - accuracy: 0.9893 - val_loss: 0.8589 - val_accuracy: 0.8192\n",
            "Epoch 26/30\n",
            "625/625 - 2s - loss: 0.0327 - accuracy: 0.9901 - val_loss: 0.8919 - val_accuracy: 0.8196\n",
            "Epoch 27/30\n",
            "625/625 - 2s - loss: 0.0300 - accuracy: 0.9919 - val_loss: 0.9510 - val_accuracy: 0.8143\n",
            "Epoch 28/30\n",
            "625/625 - 2s - loss: 0.0310 - accuracy: 0.9908 - val_loss: 0.9724 - val_accuracy: 0.8153\n",
            "Epoch 29/30\n",
            "625/625 - 2s - loss: 0.0265 - accuracy: 0.9922 - val_loss: 1.0054 - val_accuracy: 0.8134\n",
            "Epoch 30/30\n",
            "625/625 - 2s - loss: 0.0238 - accuracy: 0.9936 - val_loss: 1.0449 - val_accuracy: 0.8103\n"
          ]
        }
      ]
    },
    {
      "cell_type": "code",
      "metadata": {
        "colab": {
          "base_uri": "https://localhost:8080/",
          "height": 541
        },
        "id": "lHw248qCeikI",
        "outputId": "dc992c3c-73e9-42d6-e859-6c3b74d1c15a"
      },
      "source": [
        "import matplotlib.pyplot as plt\n",
        "\n",
        "\n",
        "def plot_graphs(history, string):\n",
        "  plt.plot(history.history[string])\n",
        "  plt.plot(history.history['val_'+string])\n",
        "  plt.xlabel(\"Epochs\")\n",
        "  plt.ylabel(string)\n",
        "  plt.legend([string, 'val_'+string])\n",
        "  plt.show()\n",
        "  \n",
        "plot_graphs(history, \"accuracy\")\n",
        "plot_graphs(history, \"loss\")"
      ],
      "execution_count": 38,
      "outputs": [
        {
          "output_type": "display_data",
          "data": {
            "image/png": "[encoded data removed]",
            "text/plain": [
              "<Figure size 432x288 with 1 Axes>"
            ]
          },
          "metadata": {
            "needs_background": "light"
          }
        },
        {
          "output_type": "display_data",
          "data": {
            "image/png": "[encoded data removed]",
            "text/plain": [
              "<Figure size 432x288 with 1 Axes>"
            ]
          },
          "metadata": {
            "needs_background": "light"
          }
        }
      ]
    },
    {
      "cell_type": "code",
      "metadata": {
        "colab": {
          "base_uri": "https://localhost:8080/"
        },
        "id": "dFkdXZX1e3c4",
        "outputId": "fcc8a2b7-10d7-4cfb-c9c3-bdd01ea25158"
      },
      "source": [
        "reverse_word_index = dict([(value, key) for (key, value) in word_index.items()])\n",
        "\n",
        "def decode_sentence(text):\n",
        "    return ' '.join([reverse_word_index.get(i, '?') for i in text])\n",
        "\n",
        "print(decode_sentence(training_padded[0]))\n",
        "print(training_sentences[2])\n",
        "print(labels[2])"
      ],
      "execution_count": 39,
      "outputs": [
        {
          "output_type": "stream",
          "name": "stdout",
          "text": [
            "former <OOV> store clerk sues over secret 'black <OOV> for minority shoppers ? ? ? ? ? ? ? ? ? ? ? ? ? ? ? ? ? ? ? ? ? ? ? ? ? ? ? ? ? ? ? ? ? ? ? ? ? ? ? ? ? ? ? ? ? ? ? ? ? ? ? ? ? ? ? ? ? ? ? ? ? ? ? ? ? ? ? ? ? ? ? ? ? ? ? ? ? ? ? ? ? ? ? ? ? ? ? ?\n",
            "mom starting to fear son's web series closest thing she will have to grandchild\n",
            "1\n"
          ]
        }
      ]
    },
    {
      "cell_type": "code",
      "metadata": {
        "colab": {
          "base_uri": "https://localhost:8080/"
        },
        "id": "euCPj0v8e7PQ",
        "outputId": "8be2a90f-a19f-44ed-d521-30cbe3aaf028"
      },
      "source": [
        "e = model.layers[0]\n",
        "weights = e.get_weights()[0]\n",
        "print(weights.shape) # shape: (vocab_size, embedding_dim)"
      ],
      "execution_count": 40,
      "outputs": [
        {
          "output_type": "stream",
          "name": "stdout",
          "text": [
            "(10000, 16)\n"
          ]
        }
      ]
    },
    {
      "cell_type": "code",
      "metadata": {
        "id": "BByHsWdae-Q0"
      },
      "source": [
        "import io\n",
        "\n",
        "out_v = io.open('vecs.tsv', 'w', encoding='utf-8')\n",
        "out_m = io.open('meta.tsv', 'w', encoding='utf-8')\n",
        "for word_num in range(1, vocab_size):\n",
        "  word = reverse_word_index[word_num]\n",
        "  embeddings = weights[word_num]\n",
        "  out_m.write(word + \"\\n\")\n",
        "  out_v.write('\\t'.join([str(x) for x in embeddings]) + \"\\n\")\n",
        "out_v.close()\n",
        "out_m.close()"
      ],
      "execution_count": 41,
      "outputs": []
    },
    {
      "cell_type": "code",
      "metadata": {
        "colab": {
          "base_uri": "https://localhost:8080/",
          "height": 17
        },
        "id": "1tFciQ-dfAgN",
        "outputId": "1efe6064-1e79-4cbe-ef37-1dd82af194c0"
      },
      "source": [
        "try:\n",
        "  from google.colab import files\n",
        "except ImportError:\n",
        "  pass\n",
        "else:\n",
        "  files.download('vecs.tsv')\n",
        "  files.download('meta.tsv')"
      ],
      "execution_count": 42,
      "outputs": [
        {
          "output_type": "display_data",
          "data": {
            "application/javascript": [
              "\n",
              "    async function download(id, filename, size) {\n",
              "      if (!google.colab.kernel.accessAllowed) {\n",
              "        return;\n",
              "      }\n",
              "      const div = document.createElement('div');\n",
              "      const label = document.createElement('label');\n",
              "      label.textContent = `Downloading \"${filename}\": `;\n",
              "      div.appendChild(label);\n",
              "      const progress = document.createElement('progress');\n",
              "      progress.max = size;\n",
              "      div.appendChild(progress);\n",
              "      document.body.appendChild(div);\n",
              "\n",
              "      const buffers = [];\n",
              "      let downloaded = 0;\n",
              "\n",
              "      const channel = await google.colab.kernel.comms.open(id);\n",
              "      // Send a message to notify the kernel that we're ready.\n",
              "      channel.send({})\n",
              "\n",
              "      for await (const message of channel.messages) {\n",
              "        // Send a message to notify the kernel that we're ready.\n",
              "        channel.send({})\n",
              "        if (message.buffers) {\n",
              "          for (const buffer of message.buffers) {\n",
              "            buffers.push(buffer);\n",
              "            downloaded += buffer.byteLength;\n",
              "            progress.value = downloaded;\n",
              "          }\n",
              "        }\n",
              "      }\n",
              "      const blob = new Blob(buffers, {type: 'application/binary'});\n",
              "      const a = document.createElement('a');\n",
              "      a.href = window.URL.createObjectURL(blob);\n",
              "      a.download = filename;\n",
              "      div.appendChild(a);\n",
              "      a.click();\n",
              "      div.remove();\n",
              "    }\n",
              "  "
            ],
            "text/plain": [
              "<IPython.core.display.Javascript object>"
            ]
          },
          "metadata": {}
        },
        {
          "output_type": "display_data",
          "data": {
            "application/javascript": [
              "download(\"download_82d58e2f-97c0-42da-b409-7ca02614ecd4\", \"vecs.tsv\", 1812568)"
            ],
            "text/plain": [
              "<IPython.core.display.Javascript object>"
            ]
          },
          "metadata": {}
        },
        {
          "output_type": "display_data",
          "data": {
            "application/javascript": [
              "\n",
              "    async function download(id, filename, size) {\n",
              "      if (!google.colab.kernel.accessAllowed) {\n",
              "        return;\n",
              "      }\n",
              "      const div = document.createElement('div');\n",
              "      const label = document.createElement('label');\n",
              "      label.textContent = `Downloading \"${filename}\": `;\n",
              "      div.appendChild(label);\n",
              "      const progress = document.createElement('progress');\n",
              "      progress.max = size;\n",
              "      div.appendChild(progress);\n",
              "      document.body.appendChild(div);\n",
              "\n",
              "      const buffers = [];\n",
              "      let downloaded = 0;\n",
              "\n",
              "      const channel = await google.colab.kernel.comms.open(id);\n",
              "      // Send a message to notify the kernel that we're ready.\n",
              "      channel.send({})\n",
              "\n",
              "      for await (const message of channel.messages) {\n",
              "        // Send a message to notify the kernel that we're ready.\n",
              "        channel.send({})\n",
              "        if (message.buffers) {\n",
              "          for (const buffer of message.buffers) {\n",
              "            buffers.push(buffer);\n",
              "            downloaded += buffer.byteLength;\n",
              "            progress.value = downloaded;\n",
              "          }\n",
              "        }\n",
              "      }\n",
              "      const blob = new Blob(buffers, {type: 'application/binary'});\n",
              "      const a = document.createElement('a');\n",
              "      a.href = window.URL.createObjectURL(blob);\n",
              "      a.download = filename;\n",
              "      div.appendChild(a);\n",
              "      a.click();\n",
              "      div.remove();\n",
              "    }\n",
              "  "
            ],
            "text/plain": [
              "<IPython.core.display.Javascript object>"
            ]
          },
          "metadata": {}
        },
        {
          "output_type": "display_data",
          "data": {
            "application/javascript": [
              "download(\"download_c564e3d1-a983-4302-ab0d-d886dd5cc360\", \"meta.tsv\", 75974)"
            ],
            "text/plain": [
              "<IPython.core.display.Javascript object>"
            ]
          },
          "metadata": {}
        }
      ]
    },
    {
      "cell_type": "code",
      "metadata": {
        "colab": {
          "base_uri": "https://localhost:8080/"
        },
        "id": "OEs9oWNxfC9x",
        "outputId": "a198cf4a-0129-4e5e-de7e-775006ad0d4f"
      },
      "source": [
        "sentence = [\"granny starting to fear spiders in the garden might be real\", \"game of thrones season finale showing this sunday night\"]\n",
        "sequences = tokenizer.texts_to_sequences(sentence)\n",
        "padded = pad_sequences(sequences, maxlen=max_length, padding=padding_type, truncating=trunc_type)\n",
        "print(model.predict(padded))"
      ],
      "execution_count": 43,
      "outputs": [
        {
          "output_type": "stream",
          "name": "stdout",
          "text": [
            "[[8.4266937e-01]\n",
            " [3.7384765e-05]]\n"
          ]
        }
      ]
    },
    {
      "cell_type": "code",
      "metadata": {
        "id": "88QpqlSrfOoH"
      },
      "source": [
        ""
      ],
      "execution_count": null,
      "outputs": []
    }
  ]
}